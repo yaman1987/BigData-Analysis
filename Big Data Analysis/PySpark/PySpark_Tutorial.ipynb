{
  "nbformat": 4,
  "nbformat_minor": 0,
  "metadata": {
    "colab": {
      "name": "PySpark Tutorial.ipynb",
      "version": "0.3.2",
      "provenance": [],
      "collapsed_sections": []
    },
    "kernelspec": {
      "name": "python3",
      "display_name": "Python 3"
    }
  },
  "cells": [
    {
      "cell_type": "markdown",
      "metadata": {
        "id": "MkFQGkvn6yGy",
        "colab_type": "text"
      },
      "source": [
        "# Apache Spark Tutorial"
      ]
    },
    {
      "cell_type": "markdown",
      "metadata": {
        "id": "nPcHez6065Qz",
        "colab_type": "text"
      },
      "source": [
        "This exercise was realised following Evan Heitman guide: https://towardsdatascience.com/a-neanderthals-guide-to-apache-spark-in-python-9ef1f156d427"
      ]
    },
    {
      "cell_type": "markdown",
      "metadata": {
        "id": "jdzG_NTc7PsW",
        "colab_type": "text"
      },
      "source": [
        "## Setting up Spark in Google Colab"
      ]
    },
    {
      "cell_type": "code",
      "metadata": {
        "id": "kz6gTygNrGka",
        "colab_type": "code",
        "colab": {}
      },
      "source": [
        "!apt-get install openjdk-8-jdk-headless -qq > /dev/null\n",
        "!wget -q https://www-us.apache.org/dist/spark/spark-2.4.3/spark-2.4.3-bin-hadoop2.7.tgz\n",
        "!tar xf spark-2.4.3-bin-hadoop2.7.tgz\n",
        "!pip install -q findspark"
      ],
      "execution_count": 0,
      "outputs": []
    },
    {
      "cell_type": "code",
      "metadata": {
        "id": "Z1HOkKi-AtbF",
        "colab_type": "code",
        "colab": {}
      },
      "source": [
        "import os\n",
        "import findspark"
      ],
      "execution_count": 0,
      "outputs": []
    },
    {
      "cell_type": "code",
      "metadata": {
        "id": "l6I1Js7q99mT",
        "colab_type": "code",
        "colab": {}
      },
      "source": [
        "os.environ[\"JAVA_HOME\"] = \"/usr/lib/jvm/java-8-openjdk-amd64\"\n",
        "os.environ[\"SPARK_HOME\"] = \"/content/spark-2.4.3-bin-hadoop2.7\""
      ],
      "execution_count": 0,
      "outputs": []
    },
    {
      "cell_type": "code",
      "metadata": {
        "id": "jU3hv5QkAYcQ",
        "colab_type": "code",
        "colab": {}
      },
      "source": [
        "findspark.init()"
      ],
      "execution_count": 0,
      "outputs": []
    },
    {
      "cell_type": "code",
      "metadata": {
        "id": "TLTKObEb92V3",
        "colab_type": "code",
        "colab": {}
      },
      "source": [
        "from pyspark.sql import SparkSession\n",
        "from google.colab import files\n",
        "from pyspark.sql.types import DoubleType\n",
        "from pyspark.ml.feature import VectorAssembler\n",
        "from pyspark.ml.regression import LinearRegression\n",
        "from pyspark.ml.evaluation import RegressionEvaluator"
      ],
      "execution_count": 0,
      "outputs": []
    },
    {
      "cell_type": "code",
      "metadata": {
        "id": "prgtghEyrJXq",
        "colab_type": "code",
        "colab": {}
      },
      "source": [
        "spark = SparkSession.builder \\\n",
        "    .master(\"local[*]\") \\\n",
        "    .appName(\"Learning_Spark\") \\\n",
        "    .getOrCreate()"
      ],
      "execution_count": 0,
      "outputs": []
    },
    {
      "cell_type": "markdown",
      "metadata": {
        "id": "eTdMNmb-7Y_V",
        "colab_type": "text"
      },
      "source": [
        "## Preprocessing"
      ]
    },
    {
      "cell_type": "code",
      "metadata": {
        "id": "9wj7smzFrlXo",
        "colab_type": "code",
        "colab": {}
      },
      "source": [
        "# Upload manually files to Google Colab\n",
        "# files.upload()\n",
        "# Display all operation results in Jupyter notebook\n",
        "# from IPython.core.interactiveshell import InteractiveShell\n",
        "# InteractiveShell.ast_node_interactivity = \"all\""
      ],
      "execution_count": 0,
      "outputs": []
    },
    {
      "cell_type": "code",
      "metadata": {
        "id": "4Q-mXsUusFrN",
        "colab_type": "code",
        "colab": {}
      },
      "source": [
        "df = spark.read.csv('Video_Games_Sales_as_at_22_Dec_2016.csv',inferSchema=True, header=True)"
      ],
      "execution_count": 0,
      "outputs": []
    },
    {
      "cell_type": "code",
      "metadata": {
        "id": "1XN1NSx2s3Z9",
        "colab_type": "code",
        "colab": {
          "base_uri": "https://localhost:8080/",
          "height": 34
        },
        "outputId": "a1c508cc-f1f5-4da4-e736-180ef75ffc31"
      },
      "source": [
        "df.count(), len(df.columns)"
      ],
      "execution_count": 9,
      "outputs": [
        {
          "output_type": "execute_result",
          "data": {
            "text/plain": [
              "(16719, 16)"
            ]
          },
          "metadata": {
            "tags": []
          },
          "execution_count": 9
        }
      ]
    },
    {
      "cell_type": "code",
      "metadata": {
        "id": "WrAdmhy4s5BT",
        "colab_type": "code",
        "colab": {
          "base_uri": "https://localhost:8080/",
          "height": 478
        },
        "outputId": "56406b25-bb09-4ed7-d441-c88467ab6739"
      },
      "source": [
        "df.show()"
      ],
      "execution_count": 10,
      "outputs": [
        {
          "output_type": "stream",
          "text": [
            "+--------------------+--------+---------------+------------+--------------------+--------+--------+--------+-----------+------------+------------+------------+----------+----------+-------------------+------+\n",
            "|                Name|Platform|Year_of_Release|       Genre|           Publisher|NA_Sales|EU_Sales|JP_Sales|Other_Sales|Global_Sales|Critic_Score|Critic_Count|User_Score|User_Count|          Developer|Rating|\n",
            "+--------------------+--------+---------------+------------+--------------------+--------+--------+--------+-----------+------------+------------+------------+----------+----------+-------------------+------+\n",
            "|          Wii Sports|     Wii|           2006|      Sports|            Nintendo|   41.36|   28.96|    3.77|       8.45|       82.53|          76|          51|         8|       322|           Nintendo|     E|\n",
            "|   Super Mario Bros.|     NES|           1985|    Platform|            Nintendo|   29.08|    3.58|    6.81|       0.77|       40.24|        null|        null|      null|      null|               null|  null|\n",
            "|      Mario Kart Wii|     Wii|           2008|      Racing|            Nintendo|   15.68|   12.76|    3.79|       3.29|       35.52|          82|          73|       8.3|       709|           Nintendo|     E|\n",
            "|   Wii Sports Resort|     Wii|           2009|      Sports|            Nintendo|   15.61|   10.93|    3.28|       2.95|       32.77|          80|          73|         8|       192|           Nintendo|     E|\n",
            "|Pokemon Red/Pokem...|      GB|           1996|Role-Playing|            Nintendo|   11.27|    8.89|   10.22|        1.0|       31.37|        null|        null|      null|      null|               null|  null|\n",
            "|              Tetris|      GB|           1989|      Puzzle|            Nintendo|    23.2|    2.26|    4.22|       0.58|       30.26|        null|        null|      null|      null|               null|  null|\n",
            "|New Super Mario B...|      DS|           2006|    Platform|            Nintendo|   11.28|    9.14|     6.5|       2.88|        29.8|          89|          65|       8.5|       431|           Nintendo|     E|\n",
            "|            Wii Play|     Wii|           2006|        Misc|            Nintendo|   13.96|    9.18|    2.93|       2.84|       28.92|          58|          41|       6.6|       129|           Nintendo|     E|\n",
            "|New Super Mario B...|     Wii|           2009|    Platform|            Nintendo|   14.44|    6.94|     4.7|       2.24|       28.32|          87|          80|       8.4|       594|           Nintendo|     E|\n",
            "|           Duck Hunt|     NES|           1984|     Shooter|            Nintendo|   26.93|    0.63|    0.28|       0.47|       28.31|        null|        null|      null|      null|               null|  null|\n",
            "|          Nintendogs|      DS|           2005|  Simulation|            Nintendo|    9.05|   10.95|    1.93|       2.74|       24.67|        null|        null|      null|      null|               null|  null|\n",
            "|       Mario Kart DS|      DS|           2005|      Racing|            Nintendo|    9.71|    7.47|    4.13|        1.9|       23.21|          91|          64|       8.6|       464|           Nintendo|     E|\n",
            "|Pokemon Gold/Poke...|      GB|           1999|Role-Playing|            Nintendo|     9.0|    6.18|     7.2|       0.71|        23.1|        null|        null|      null|      null|               null|  null|\n",
            "|             Wii Fit|     Wii|           2007|      Sports|            Nintendo|    8.92|    8.03|     3.6|       2.15|        22.7|          80|          63|       7.7|       146|           Nintendo|     E|\n",
            "|  Kinect Adventures!|    X360|           2010|        Misc|Microsoft Game St...|    15.0|    4.89|    0.24|       1.69|       21.81|          61|          45|       6.3|       106|Good Science Studio|     E|\n",
            "|        Wii Fit Plus|     Wii|           2009|      Sports|            Nintendo|    9.01|    8.49|    2.53|       1.77|       21.79|          80|          33|       7.4|        52|           Nintendo|     E|\n",
            "|  Grand Theft Auto V|     PS3|           2013|      Action|Take-Two Interactive|    7.02|    9.09|    0.98|       3.96|       21.04|          97|          50|       8.2|      3994|     Rockstar North|     M|\n",
            "|Grand Theft Auto:...|     PS2|           2004|      Action|Take-Two Interactive|    9.43|     0.4|    0.41|      10.57|       20.81|          95|          80|         9|      1588|     Rockstar North|     M|\n",
            "|   Super Mario World|    SNES|           1990|    Platform|            Nintendo|   12.78|    3.75|    3.54|       0.55|       20.61|        null|        null|      null|      null|               null|  null|\n",
            "|Brain Age: Train ...|      DS|           2005|        Misc|            Nintendo|    4.74|     9.2|    4.16|       2.04|       20.15|          77|          58|       7.9|        50|           Nintendo|     E|\n",
            "+--------------------+--------+---------------+------------+--------------------+--------+--------+--------+-----------+------------+------------+------------+----------+----------+-------------------+------+\n",
            "only showing top 20 rows\n",
            "\n"
          ],
          "name": "stdout"
        }
      ]
    },
    {
      "cell_type": "code",
      "metadata": {
        "id": "aEUuSqfEtEWo",
        "colab_type": "code",
        "colab": {
          "base_uri": "https://localhost:8080/",
          "height": 336
        },
        "outputId": "90973d09-1cbe-4375-c5cf-7e7f24a06c1f"
      },
      "source": [
        "df.printSchema()"
      ],
      "execution_count": 11,
      "outputs": [
        {
          "output_type": "stream",
          "text": [
            "root\n",
            " |-- Name: string (nullable = true)\n",
            " |-- Platform: string (nullable = true)\n",
            " |-- Year_of_Release: string (nullable = true)\n",
            " |-- Genre: string (nullable = true)\n",
            " |-- Publisher: string (nullable = true)\n",
            " |-- NA_Sales: double (nullable = true)\n",
            " |-- EU_Sales: double (nullable = true)\n",
            " |-- JP_Sales: double (nullable = true)\n",
            " |-- Other_Sales: double (nullable = true)\n",
            " |-- Global_Sales: double (nullable = true)\n",
            " |-- Critic_Score: integer (nullable = true)\n",
            " |-- Critic_Count: integer (nullable = true)\n",
            " |-- User_Score: string (nullable = true)\n",
            " |-- User_Count: integer (nullable = true)\n",
            " |-- Developer: string (nullable = true)\n",
            " |-- Rating: string (nullable = true)\n",
            "\n"
          ],
          "name": "stdout"
        }
      ]
    },
    {
      "cell_type": "code",
      "metadata": {
        "id": "QuCoVl3ZtJrW",
        "colab_type": "code",
        "colab": {
          "base_uri": "https://localhost:8080/",
          "height": 478
        },
        "outputId": "4193ebec-b0a0-4971-b5b1-dcc76dc02075"
      },
      "source": [
        "df.select(\"Name\",\"Platform\",\"User_Score\",\"User_Count\").show(20, truncate=False)"
      ],
      "execution_count": 12,
      "outputs": [
        {
          "output_type": "stream",
          "text": [
            "+--------------------------------------------+--------+----------+----------+\n",
            "|Name                                        |Platform|User_Score|User_Count|\n",
            "+--------------------------------------------+--------+----------+----------+\n",
            "|Wii Sports                                  |Wii     |8         |322       |\n",
            "|Super Mario Bros.                           |NES     |null      |null      |\n",
            "|Mario Kart Wii                              |Wii     |8.3       |709       |\n",
            "|Wii Sports Resort                           |Wii     |8         |192       |\n",
            "|Pokemon Red/Pokemon Blue                    |GB      |null      |null      |\n",
            "|Tetris                                      |GB      |null      |null      |\n",
            "|New Super Mario Bros.                       |DS      |8.5       |431       |\n",
            "|Wii Play                                    |Wii     |6.6       |129       |\n",
            "|New Super Mario Bros. Wii                   |Wii     |8.4       |594       |\n",
            "|Duck Hunt                                   |NES     |null      |null      |\n",
            "|Nintendogs                                  |DS      |null      |null      |\n",
            "|Mario Kart DS                               |DS      |8.6       |464       |\n",
            "|Pokemon Gold/Pokemon Silver                 |GB      |null      |null      |\n",
            "|Wii Fit                                     |Wii     |7.7       |146       |\n",
            "|Kinect Adventures!                          |X360    |6.3       |106       |\n",
            "|Wii Fit Plus                                |Wii     |7.4       |52        |\n",
            "|Grand Theft Auto V                          |PS3     |8.2       |3994      |\n",
            "|Grand Theft Auto: San Andreas               |PS2     |9         |1588      |\n",
            "|Super Mario World                           |SNES    |null      |null      |\n",
            "|Brain Age: Train Your Brain in Minutes a Day|DS      |7.9       |50        |\n",
            "+--------------------------------------------+--------+----------+----------+\n",
            "only showing top 20 rows\n",
            "\n"
          ],
          "name": "stdout"
        }
      ]
    },
    {
      "cell_type": "code",
      "metadata": {
        "id": "eGii2GyqvXRY",
        "colab_type": "code",
        "colab": {
          "base_uri": "https://localhost:8080/",
          "height": 194
        },
        "outputId": "39f194ca-8c97-46d9-99d3-dac431a0d79d"
      },
      "source": [
        "df.describe([\"User_Score\",\"User_Count\"]).show()"
      ],
      "execution_count": 13,
      "outputs": [
        {
          "output_type": "stream",
          "text": [
            "+-------+------------------+------------------+\n",
            "|summary|        User_Score|        User_Count|\n",
            "+-------+------------------+------------------+\n",
            "|  count|             10015|              7590|\n",
            "|   mean|7.1250461133070315|162.22990777338603|\n",
            "| stddev|1.5000060936257986| 561.2823262473789|\n",
            "|    min|                 0|                 4|\n",
            "|    max|               tbd|             10665|\n",
            "+-------+------------------+------------------+\n",
            "\n"
          ],
          "name": "stdout"
        }
      ]
    },
    {
      "cell_type": "code",
      "metadata": {
        "id": "GlZJBgEZvbHY",
        "colab_type": "code",
        "colab": {
          "base_uri": "https://localhost:8080/",
          "height": 194
        },
        "outputId": "cb2771ff-06cc-4e71-fe2c-770ac7b6a56f"
      },
      "source": [
        "df.describe([\"User_Score\",\"User_Count\"]).show()"
      ],
      "execution_count": 14,
      "outputs": [
        {
          "output_type": "stream",
          "text": [
            "+-------+------------------+------------------+\n",
            "|summary|        User_Score|        User_Count|\n",
            "+-------+------------------+------------------+\n",
            "|  count|             10015|              7590|\n",
            "|   mean|7.1250461133070315|162.22990777338603|\n",
            "| stddev|1.5000060936257986| 561.2823262473789|\n",
            "|    min|                 0|                 4|\n",
            "|    max|               tbd|             10665|\n",
            "+-------+------------------+------------------+\n",
            "\n"
          ],
          "name": "stdout"
        }
      ]
    },
    {
      "cell_type": "code",
      "metadata": {
        "id": "63btKJPAvhh9",
        "colab_type": "code",
        "colab": {
          "base_uri": "https://localhost:8080/",
          "height": 390
        },
        "outputId": "b96a28b7-1fd7-487d-8ad4-aa59f85c903c"
      },
      "source": [
        "df.groupBy(\"Platform\").count().orderBy(\"count\", ascending=False).show(15)"
      ],
      "execution_count": 15,
      "outputs": [
        {
          "output_type": "stream",
          "text": [
            "+--------+-----+\n",
            "|Platform|count|\n",
            "+--------+-----+\n",
            "|     PS2| 2161|\n",
            "|      DS| 2152|\n",
            "|     PS3| 1331|\n",
            "|     Wii| 1320|\n",
            "|    X360| 1262|\n",
            "|     PSP| 1209|\n",
            "|      PS| 1197|\n",
            "|      PC|  974|\n",
            "|      XB|  824|\n",
            "|     GBA|  822|\n",
            "|      GC|  556|\n",
            "|     3DS|  520|\n",
            "|     PSV|  432|\n",
            "|     PS4|  393|\n",
            "|     N64|  319|\n",
            "+--------+-----+\n",
            "only showing top 15 rows\n",
            "\n"
          ],
          "name": "stdout"
        }
      ]
    },
    {
      "cell_type": "code",
      "metadata": {
        "id": "X0AMN4sJvrdS",
        "colab_type": "code",
        "colab": {}
      },
      "source": [
        "# Eliminating all the Not a Number values and tbd (to be defined) from the dataset\n",
        "condition1 = (df.User_Score.isNotNull()) | (df.User_Count.isNotNull())\n",
        "condition2 = df.User_Score != \"tbd\"\n",
        "df = df.filter(condition1).filter(condition2)"
      ],
      "execution_count": 0,
      "outputs": []
    },
    {
      "cell_type": "markdown",
      "metadata": {
        "id": "DEP1dRZcB0QQ",
        "colab_type": "text"
      },
      "source": [
        "## Machine Learning"
      ]
    },
    {
      "cell_type": "markdown",
      "metadata": {
        "id": "ZoDchYpJB24L",
        "colab_type": "text"
      },
      "source": [
        "Creating a Linear Regression model able to predict the user score using the year of release, global sales, critic score and user count."
      ]
    },
    {
      "cell_type": "markdown",
      "metadata": {
        "id": "u6DVn8B1EUfE",
        "colab_type": "text"
      },
      "source": [
        "Further documentation: https://spark.apache.org/docs/2.2.0/mllib-evaluation-metrics.html, https://spark.apache.org/docs/2.2.0/ml-classification-regression.html"
      ]
    },
    {
      "cell_type": "code",
      "metadata": {
        "id": "axGJsDNEvz8C",
        "colab_type": "code",
        "colab": {}
      },
      "source": [
        "df = df.withColumn(\"Year_of_Release\", df[\"Year_of_Release\"].cast(DoubleType()))\n",
        "df = df.withColumn(\"User_Score\", df[\"User_Score\"].cast(DoubleType()))\n",
        "df = df.withColumn(\"User_Count\", df[\"User_Count\"].cast(DoubleType()))\n",
        "df = df.withColumn(\"Critic_Score\", df[\"Critic_Score\"].cast(DoubleType()))"
      ],
      "execution_count": 0,
      "outputs": []
    },
    {
      "cell_type": "code",
      "metadata": {
        "id": "LMiw0vJAwKww",
        "colab_type": "code",
        "colab": {}
      },
      "source": [
        "# Creating a dataframe suitable for Machine Learning using Spark\n",
        "inputcols = [\"Year_of_Release\",  \"Global_Sales\", \"Critic_Score\", \"User_Count\"]\n",
        "assembler = VectorAssembler(inputCols= inputcols,\n",
        "                            outputCol = \"predictors\")"
      ],
      "execution_count": 0,
      "outputs": []
    },
    {
      "cell_type": "code",
      "metadata": {
        "id": "SIMGk_OKwMTc",
        "colab_type": "code",
        "colab": {
          "base_uri": "https://localhost:8080/",
          "height": 318
        },
        "outputId": "4a195674-c5b4-415f-8c00-91988f637d0e"
      },
      "source": [
        "predictors = assembler.setHandleInvalid(\"skip\").transform(df)\n",
        "predictors.columns\n",
        "# In predictors are stored all the coulumns we want to use to make predictions for our machine learning model"
      ],
      "execution_count": 19,
      "outputs": [
        {
          "output_type": "execute_result",
          "data": {
            "text/plain": [
              "['Name',\n",
              " 'Platform',\n",
              " 'Year_of_Release',\n",
              " 'Genre',\n",
              " 'Publisher',\n",
              " 'NA_Sales',\n",
              " 'EU_Sales',\n",
              " 'JP_Sales',\n",
              " 'Other_Sales',\n",
              " 'Global_Sales',\n",
              " 'Critic_Score',\n",
              " 'Critic_Count',\n",
              " 'User_Score',\n",
              " 'User_Count',\n",
              " 'Developer',\n",
              " 'Rating',\n",
              " 'predictors']"
            ]
          },
          "metadata": {
            "tags": []
          },
          "execution_count": 19
        }
      ]
    },
    {
      "cell_type": "code",
      "metadata": {
        "id": "AiumV3S6wttH",
        "colab_type": "code",
        "colab": {
          "base_uri": "https://localhost:8080/",
          "height": 390
        },
        "outputId": "49395cb1-aeec-4352-e267-57b24f77e450"
      },
      "source": [
        "mldf = predictors.select(\"predictors\", \"User_Score\")\n",
        "mldf.show(15,truncate=False)"
      ],
      "execution_count": 20,
      "outputs": [
        {
          "output_type": "stream",
          "text": [
            "+--------------------------+----------+\n",
            "|predictors                |User_Score|\n",
            "+--------------------------+----------+\n",
            "|[2006.0,82.53,76.0,322.0] |8.0       |\n",
            "|[2008.0,35.52,82.0,709.0] |8.3       |\n",
            "|[2009.0,32.77,80.0,192.0] |8.0       |\n",
            "|[2006.0,29.8,89.0,431.0]  |8.5       |\n",
            "|[2006.0,28.92,58.0,129.0] |6.6       |\n",
            "|[2009.0,28.32,87.0,594.0] |8.4       |\n",
            "|[2005.0,23.21,91.0,464.0] |8.6       |\n",
            "|[2007.0,22.7,80.0,146.0]  |7.7       |\n",
            "|[2010.0,21.81,61.0,106.0] |6.3       |\n",
            "|[2009.0,21.79,80.0,52.0]  |7.4       |\n",
            "|[2013.0,21.04,97.0,3994.0]|8.2       |\n",
            "|[2004.0,20.81,95.0,1588.0]|9.0       |\n",
            "|[2005.0,20.15,77.0,50.0]  |7.9       |\n",
            "|[2013.0,16.27,97.0,3711.0]|8.1       |\n",
            "|[2002.0,16.15,95.0,730.0] |8.7       |\n",
            "+--------------------------+----------+\n",
            "only showing top 15 rows\n",
            "\n"
          ],
          "name": "stdout"
        }
      ]
    },
    {
      "cell_type": "code",
      "metadata": {
        "id": "QqJZMK_dwvu-",
        "colab_type": "code",
        "colab": {}
      },
      "source": [
        "train_data,test_data = mldf.randomSplit([0.8,0.2])"
      ],
      "execution_count": 0,
      "outputs": []
    },
    {
      "cell_type": "code",
      "metadata": {
        "id": "U4pwrrT9wzI0",
        "colab_type": "code",
        "colab": {}
      },
      "source": [
        "lr = LinearRegression(featuresCol = 'predictors', labelCol = 'User_Score')\n",
        "lrModel = lr.fit(train_data)\n",
        "pred = lrModel.evaluate(test_data)"
      ],
      "execution_count": 0,
      "outputs": []
    },
    {
      "cell_type": "code",
      "metadata": {
        "id": "BQR73BF0w2ap",
        "colab_type": "code",
        "colab": {
          "base_uri": "https://localhost:8080/",
          "height": 34
        },
        "outputId": "e92b14f3-4d5c-4aa7-8b0a-c2068fbdaf0f"
      },
      "source": [
        "lrModel.coefficients"
      ],
      "execution_count": 23,
      "outputs": [
        {
          "output_type": "execute_result",
          "data": {
            "text/plain": [
              "DenseVector([-0.0764, -0.0342, 0.0625, -0.0002])"
            ]
          },
          "metadata": {
            "tags": []
          },
          "execution_count": 23
        }
      ]
    },
    {
      "cell_type": "code",
      "metadata": {
        "id": "RDJNBZ91w8k8",
        "colab_type": "code",
        "colab": {
          "base_uri": "https://localhost:8080/",
          "height": 34
        },
        "outputId": "fe22fa4b-af6d-4859-886a-1063cb456d63"
      },
      "source": [
        "lrModel.intercept"
      ],
      "execution_count": 24,
      "outputs": [
        {
          "output_type": "execute_result",
          "data": {
            "text/plain": [
              "156.1480615005749"
            ]
          },
          "metadata": {
            "tags": []
          },
          "execution_count": 24
        }
      ]
    },
    {
      "cell_type": "code",
      "metadata": {
        "id": "6OCwkgFqw_ac",
        "colab_type": "code",
        "colab": {
          "base_uri": "https://localhost:8080/",
          "height": 212
        },
        "outputId": "aa2a6aa0-a2f7-4840-b223-b7505e3353b6"
      },
      "source": [
        "pred.predictions.show(5)"
      ],
      "execution_count": 25,
      "outputs": [
        {
          "output_type": "stream",
          "text": [
            "+--------------------+----------+-----------------+\n",
            "|          predictors|User_Score|       prediction|\n",
            "+--------------------+----------+-----------------+\n",
            "|[1997.0,0.42,91.0...|       7.8|9.323316373812503|\n",
            "|[1997.0,0.5,66.0,...|       8.2|7.757854836381256|\n",
            "|[1997.0,0.89,83.0...|       8.2|8.805071218707724|\n",
            "|[1997.0,1.01,86.0...|       8.3|8.990844731977234|\n",
            "|[1997.0,1.27,93.0...|       9.4|9.353394380544671|\n",
            "+--------------------+----------+-----------------+\n",
            "only showing top 5 rows\n",
            "\n"
          ],
          "name": "stdout"
        }
      ]
    },
    {
      "cell_type": "code",
      "metadata": {
        "id": "a5XOi3OPxBqq",
        "colab_type": "code",
        "colab": {}
      },
      "source": [
        "eval = RegressionEvaluator(labelCol=\"User_Score\", predictionCol=\"prediction\", metricName=\"rmse\")"
      ],
      "execution_count": 0,
      "outputs": []
    },
    {
      "cell_type": "code",
      "metadata": {
        "id": "lVU1-haIxKwx",
        "colab_type": "code",
        "colab": {}
      },
      "source": [
        "rmse = eval.evaluate(pred.predictions)\n",
        "mse = eval.evaluate(pred.predictions, {eval.metricName: \"mse\"})\n",
        "mae = eval.evaluate(pred.predictions, {eval.metricName: \"mae\"})\n",
        "r2 = eval.evaluate(pred.predictions, {eval.metricName: \"r2\"})"
      ],
      "execution_count": 0,
      "outputs": []
    },
    {
      "cell_type": "code",
      "metadata": {
        "id": "R-9f4618xMiZ",
        "colab_type": "code",
        "colab": {
          "base_uri": "https://localhost:8080/",
          "height": 52
        },
        "outputId": "3665ee03-622e-47ca-e7b7-88a0a51bdb74"
      },
      "source": [
        "print(\"Overall model loss using RMSE, MSE, MAE and R2\")\n",
        "rmse, mse, mae, r2"
      ],
      "execution_count": 28,
      "outputs": [
        {
          "output_type": "stream",
          "text": [
            "Overall model loss using RMSE, MSE, MAE and R2\n"
          ],
          "name": "stdout"
        },
        {
          "output_type": "execute_result",
          "data": {
            "text/plain": [
              "(1.121893877539846, 1.258645872461391, 0.8471111698518611, 0.44572418741667963)"
            ]
          },
          "metadata": {
            "tags": []
          },
          "execution_count": 28
        }
      ]
    }
  ]
}