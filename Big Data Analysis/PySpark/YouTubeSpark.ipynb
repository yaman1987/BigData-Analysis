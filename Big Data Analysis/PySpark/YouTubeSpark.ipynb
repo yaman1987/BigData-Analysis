{
  "nbformat": 4,
  "nbformat_minor": 0,
  "metadata": {
    "colab": {
      "name": "YouTubeSpark.ipynb",
      "version": "0.3.2",
      "provenance": [],
      "collapsed_sections": []
    },
    "kernelspec": {
      "name": "python3",
      "display_name": "Python 3"
    }
  },
  "cells": [
    {
      "cell_type": "markdown",
      "metadata": {
        "id": "pWRUGlJ3lziC",
        "colab_type": "text"
      },
      "source": [
        "# Apache Spark Data Analysis"
      ]
    },
    {
      "cell_type": "markdown",
      "metadata": {
        "id": "tV6d-Phzl7lc",
        "colab_type": "text"
      },
      "source": [
        "This exercise was realised following Nagesh Singh Chauhan guide: https://towardsdatascience.com/youtube-data-analysis-using-pyspark-85b7cd07216f"
      ]
    },
    {
      "cell_type": "markdown",
      "metadata": {
        "id": "dw8jTm1KngI5",
        "colab_type": "text"
      },
      "source": [
        "For this exercise will be using the YouTube Dataset. I will be analysing just the first 10 columns which corresponds to: <br>\n",
        "1: Video ID. <br>\n",
        "2: Video uploader. <br>\n",
        "3: Interval between the day of establishment of YouTube and the date of uploading of the video. <br>\n",
        "4: Category of the video. <br>\n",
        "5: Length of the video. <br>\n",
        "6: Number of views for the video. <br>\n",
        "7: Rating on the video. <br>\n",
        "8: Number of ratings given for the video. <br>\n",
        "9: Number of comments on the videos. <br>\n",
        "10: Related video IDs of the uploaded video. <br>"
      ]
    },
    {
      "cell_type": "markdown",
      "metadata": {
        "id": "nWY1JSVfmHCN",
        "colab_type": "text"
      },
      "source": [
        "## Setting up Spark in Google Colab"
      ]
    },
    {
      "cell_type": "code",
      "metadata": {
        "id": "YtFJDKRDROB0",
        "colab_type": "code",
        "colab": {}
      },
      "source": [
        "!apt-get install openjdk-8-jdk-headless -qq > /dev/null\n",
        "!wget -q https://www-us.apache.org/dist/spark/spark-2.4.3/spark-2.4.3-bin-hadoop2.7.tgz\n",
        "!tar xf spark-2.4.3-bin-hadoop2.7.tgz\n",
        "!pip install -q findspark"
      ],
      "execution_count": 0,
      "outputs": []
    },
    {
      "cell_type": "code",
      "metadata": {
        "id": "46iZKdELRbgs",
        "colab_type": "code",
        "colab": {}
      },
      "source": [
        "import os\n",
        "import findspark"
      ],
      "execution_count": 0,
      "outputs": []
    },
    {
      "cell_type": "code",
      "metadata": {
        "id": "XVQXVo6RRb_j",
        "colab_type": "code",
        "colab": {}
      },
      "source": [
        "os.environ[\"JAVA_HOME\"] = \"/usr/lib/jvm/java-8-openjdk-amd64\"\n",
        "os.environ[\"SPARK_HOME\"] = \"/content/spark-2.4.3-bin-hadoop2.7\""
      ],
      "execution_count": 0,
      "outputs": []
    },
    {
      "cell_type": "code",
      "metadata": {
        "id": "8Flj6q0oRcCO",
        "colab_type": "code",
        "colab": {}
      },
      "source": [
        "findspark.init()"
      ],
      "execution_count": 0,
      "outputs": []
    },
    {
      "cell_type": "code",
      "metadata": {
        "id": "dKETAZwVRcFQ",
        "colab_type": "code",
        "colab": {}
      },
      "source": [
        "from __future__ import print_function\n",
        "import sys\n",
        "from operator import add\n",
        "from pyspark.sql.types import *\n",
        "from pyspark.sql import SparkSession\n",
        "from google.colab import files\n",
        "from pyspark.sql.types import DoubleType\n",
        "from pyspark.ml.feature import VectorAssembler\n",
        "from pyspark.ml.regression import LinearRegression\n",
        "from pyspark.ml.evaluation import RegressionEvaluator\n",
        "import matplotlib.pyplot as plt\n",
        "import csv"
      ],
      "execution_count": 0,
      "outputs": []
    },
    {
      "cell_type": "code",
      "metadata": {
        "id": "peFOkq-KRcIH",
        "colab_type": "code",
        "colab": {}
      },
      "source": [
        "spark = SparkSession.builder.master(\"local[*]\").appName(\"Learning_Spark\").getOrCreate()"
      ],
      "execution_count": 0,
      "outputs": []
    },
    {
      "cell_type": "markdown",
      "metadata": {
        "id": "GavAatM1mPJV",
        "colab_type": "text"
      },
      "source": [
        "## Preprocessing"
      ]
    },
    {
      "cell_type": "code",
      "metadata": {
        "id": "IEBuKxmMRzTJ",
        "colab_type": "code",
        "colab": {}
      },
      "source": [
        "schema1 = StructType([\n",
        "    StructField(\"f1\", StringType(), True),\n",
        "    StructField(\"f2\", StringType(), True),\n",
        "    StructField(\"f3\", DoubleType(), True),\n",
        "    StructField(\"f4\", StringType(), True),\n",
        "    StructField(\"f5\", DoubleType(), True),\n",
        "    StructField(\"f6\", DoubleType(), True),\n",
        "    StructField(\"f7\", DoubleType(), True),\n",
        "    StructField(\"f8\", DoubleType(), True),\n",
        "    StructField(\"f9\", DoubleType(), True),\n",
        "    StructField(\"f10\", StringType(), True),\n",
        "    StructField(\"f11\", StringType(), True),\n",
        "    StructField(\"f12\", StringType(), True),\n",
        "    StructField(\"f13\", StringType(), True),\n",
        "    StructField(\"f14\", StringType(), True),\n",
        "    StructField(\"f15\", StringType(), True),\n",
        "    StructField(\"f16\", StringType(), True),\n",
        "    StructField(\"f17\", StringType(), True),\n",
        "    StructField(\"f18\", StringType(), True),\n",
        "    StructField(\"f19\", StringType(), True),\n",
        "    StructField(\"f20\", StringType(), True),\n",
        "    StructField(\"f21\", StringType(), True),\n",
        "    StructField(\"f22\", StringType(), True),\n",
        "    StructField(\"f23\", StringType(), True)])"
      ],
      "execution_count": 0,
      "outputs": []
    },
    {
      "cell_type": "code",
      "metadata": {
        "id": "U7mrbL11RzV7",
        "colab_type": "code",
        "colab": {}
      },
      "source": [
        "df = spark.read.option(\"delimiter\", \"\\t\").schema(schema1).option(\"inferSchema\", \"True\").csv(\"youtubedata.txt\")\n",
        "df.createOrReplaceTempView(\"youtube_data\") # create temporary table"
      ],
      "execution_count": 0,
      "outputs": []
    },
    {
      "cell_type": "code",
      "metadata": {
        "id": "Gnpy2TPFRzYV",
        "colab_type": "code",
        "colab": {
          "base_uri": "https://localhost:8080/",
          "height": 461
        },
        "outputId": "13bdcca2-1a84-4e4c-8ba2-ba9b68fe0191"
      },
      "source": [
        "df.printSchema() # schema of the dataset"
      ],
      "execution_count": 9,
      "outputs": [
        {
          "output_type": "stream",
          "text": [
            "root\n",
            " |-- f1: string (nullable = true)\n",
            " |-- f2: string (nullable = true)\n",
            " |-- f3: double (nullable = true)\n",
            " |-- f4: string (nullable = true)\n",
            " |-- f5: double (nullable = true)\n",
            " |-- f6: double (nullable = true)\n",
            " |-- f7: double (nullable = true)\n",
            " |-- f8: double (nullable = true)\n",
            " |-- f9: double (nullable = true)\n",
            " |-- f10: string (nullable = true)\n",
            " |-- f11: string (nullable = true)\n",
            " |-- f12: string (nullable = true)\n",
            " |-- f13: string (nullable = true)\n",
            " |-- f14: string (nullable = true)\n",
            " |-- f15: string (nullable = true)\n",
            " |-- f16: string (nullable = true)\n",
            " |-- f17: string (nullable = true)\n",
            " |-- f18: string (nullable = true)\n",
            " |-- f19: string (nullable = true)\n",
            " |-- f20: string (nullable = true)\n",
            " |-- f21: string (nullable = true)\n",
            " |-- f22: string (nullable = true)\n",
            " |-- f23: string (nullable = true)\n",
            "\n"
          ],
          "name": "stdout"
        }
      ]
    },
    {
      "cell_type": "code",
      "metadata": {
        "id": "ukmQLh_LhlRr",
        "colab_type": "code",
        "colab": {
          "base_uri": "https://localhost:8080/",
          "height": 34
        },
        "outputId": "815a20e5-b315-426c-d276-67e806184ef9"
      },
      "source": [
        "df.count(), len(df.columns)"
      ],
      "execution_count": 10,
      "outputs": [
        {
          "output_type": "execute_result",
          "data": {
            "text/plain": [
              "(4100, 23)"
            ]
          },
          "metadata": {
            "tags": []
          },
          "execution_count": 10
        }
      ]
    },
    {
      "cell_type": "code",
      "metadata": {
        "id": "Ow8tF0sQhIXX",
        "colab_type": "code",
        "colab": {
          "base_uri": "https://localhost:8080/",
          "height": 498
        },
        "outputId": "ebc52bc0-87b2-4c20-8b17-6965a88c0c5c"
      },
      "source": [
        "df.show()"
      ],
      "execution_count": 11,
      "outputs": [
        {
          "output_type": "stream",
          "text": [
            "+-----------+--------------------+------+----------------+-----+---------+----+-------+-------+-----------+-----------+-----------+-----------+-----------+-----------+-----------+-----------+-----------+-----------+-----------+-----------+-----------+-----------+\n",
            "|         f1|                  f2|    f3|              f4|   f5|       f6|  f7|     f8|     f9|        f10|        f11|        f12|        f13|        f14|        f15|        f16|        f17|        f18|        f19|        f20|        f21|        f22|        f23|\n",
            "+-----------+--------------------+------+----------------+-----+---------+----+-------+-------+-----------+-----------+-----------+-----------+-----------+-----------+-----------+-----------+-----------+-----------+-----------+-----------+-----------+-----------+\n",
            "|QuRYeRnAuXM|EvilSquirrelPictures|1135.0|  Pets & Animals|252.0|   1075.0|4.96|   46.0|   86.0|gFa1YMEJFag|nRcovJn9xHg|3TYqkBJ9YRk|rSJ8QZWBegU|0TZqX5MbXMA|UEvVksP91kg|ZTopArY7Nbg|0RViGi2Rne8|HT_QlOJbDpg|YZev1imoxX8|8qQrrfUTmh0|zQ83d_D2MGs|u6_DQQjLsAw|73Wz9CQFDtE|\n",
            "|3TYqkBJ9YRk|              hggh22|1135.0|          Comedy|169.0|    228.0| 5.0|    5.0|    3.0|QuRYeRnAuXM|gFa1YMEJFag|UEvVksP91kg|rSJ8QZWBegU|nRcovJn9xHg|sVkuOk4jmCo|ZTopArY7Nbg|HT_QlOJbDpg|0RViGi2Rne8|ShhClb6J-NA|g9e1alirMhc|YZev1imoxX8|I4yKEK9o8gA|zQ83d_D2MGs|\n",
            "|rSJ8QZWBegU|             TimeGem|1135.0|   Entertainment| 95.0|    356.0|4.31|   13.0|    1.0|QuRYeRnAuXM|gFa1YMEJFag|UEvVksP91kg|3TYqkBJ9YRk|nRcovJn9xHg|sVkuOk4jmCo|ZTopArY7Nbg|gBcu22Vv1nY|HT_QlOJbDpg|0RViGi2Rne8|ShhClb6J-NA|g9e1alirMhc|YZev1imoxX8|I4yKEK9o8gA|\n",
            "|nRcovJn9xHg|          wooochacha|1135.0|   Entertainment|118.0|   1115.0|2.23|   57.0|   73.0|QuRYeRnAuXM|gFa1YMEJFag|UEvVksP91kg|3TYqkBJ9YRk|ZTopArY7Nbg|gBcu22Vv1nY|HT_QlOJbDpg|0RViGi2Rne8|ShhClb6J-NA|g9e1alirMhc|YZev1imoxX8|I4yKEK9o8gA|zQ83d_D2MGs|1GKaVzNDbuI|\n",
            "|UEvVksP91kg|            johnx113|1135.0|   Entertainment| 83.0|    281.0|2.67|    9.0|   16.0|gFa1YMEJFag|QuRYeRnAuXM|3TYqkBJ9YRk|0TZqX5MbXMA|rSJ8QZWBegU|nRcovJn9xHg|sVkuOk4jmCo|ZTopArY7Nbg|HT_QlOJbDpg|0RViGi2Rne8|g9e1alirMhc|YZev1imoxX8|I4yKEK9o8gA|zQ83d_D2MGs|\n",
            "|sVkuOk4jmCo|       marcosoycadiz|1135.0|  People & Blogs| 49.0|   1196.0|3.67|    6.0|    5.0|yjt5v88-6Aw|sLrWjhvCoW8|dergWtU1tnE|Cs3TbaYxg_A|OOHsD-akNw0|9Vajm_u9TsI|ZW62z2-QfpA|4ki_fVDDlzs|WJ2WTPtijSc|8TknA5BqRBc|M2fcueuny7s|8Wd6y3Pb2yA|0aKz7qdtMj0|x50W-TW6yGg|\n",
            "|ZTopArY7Nbg|         TroyChannel|1136.0|   Entertainment|145.0|     11.0| 0.0|    0.0|    0.0|THM3FYUNyr8|pQPhV1mzh-g|NeIGddkjxJI|8-vZvDjh_3g|N6RuQAW1ALc|Dc_MIs3NzIQ|LsSendGJARs|MHADThckgkE|OTJGrqVOubA|BjU-c_aBXtc|dT1Hmv_2Qg8|apqOIWiKaXc|vX0vqQuXI9g|Gb7ztQ-baqo|\n",
            "|0RViGi2Rne8|        OmnipotentSI|1135.0|   Entertainment|  9.0|    490.0|2.31|   26.0|   15.0|rSJ8QZWBegU|nRcovJn9xHg|0TZqX5MbXMA|UEvVksP91kg|gFa1YMEJFag|QuRYeRnAuXM|3TYqkBJ9YRk|HT_QlOJbDpg|ZTopArY7Nbg|g9e1alirMhc|YZev1imoxX8|I4yKEK9o8gA|zQ83d_D2MGs|1GKaVzNDbuI|\n",
            "|HT_QlOJbDpg|   dumbasstheredneck|1095.0|          Comedy| 14.0|   1349.0|2.09|   22.0|   13.0|cdbp6rCVzRs|jVxz9wKEa3A|mUoRI-VnV6w|bGRB0Pwx_iM|B09qqpGr4Xo|6Xdg_elOGaY|8-7axRRXpfE|VO_mUdKmyds|1vGH08qoclk|eP94rcWKMNM|jFGu4xEvWUc|e7SnPCWPFxE|G_my4iaIYIM|e9y0_BgZU7g|\n",
            "|ShhClb6J-NA|         thecrashguy|1136.0|   Entertainment| 61.0|     29.0| 0.0|    0.0|    0.0|8dEezTw8J_o|6DK-CJh6hTY|SArJyLS6T_Y|boRch04lh0I|yop2Ipym-ls|Ydnc_c4Afj0|HFaCubSrqdQ|tpUcCvJ9cio|8MrfxlBkHMQ|_CNGEzIuf_I|bKOzgNvNgTE|JJtHjzlBigU|fGkPWRrOTXA|oBqH_5mPxsc|\n",
            "|g9e1alirMhc|      iamdanielisaac| 541.0|          Comedy|152.0| 483053.0|4.65| 2689.0| 2932.0|_i6OD_y_-AI|1GKaVzNDbuI|Bd61LnxqSng|97cWs8tW8mY|I4yKEK9o8gA|IBqQWAjBgmE|myQpL8_M980|WWqed9u6rr4|-mQH9DloKD8|2l6vwAIAqNU|E3XaD3Yu3qA|pFUYi7dp1WU|Dto7-3aOt8w|hiSmlmXp-aU|\n",
            "|YZev1imoxX8|     threefirstnames|1135.0|   Entertainment|253.0|     63.0| 5.0|    3.0|    2.0|ldZPDf2cwqI|-UvVtpmh4EQ|BzwpvskqHa4|OJtAoLrGA8Q|q5QOvQ8ZYUQ|MFmMssHR0Rc|vDuIB8Gv9GQ|3kITDVTeo-c|Dt5X1_3S_kM|P2OguaWyfzQ|vOAYUoiPkzA|_6ruNbrssO4|sSUu4ROj3FQ|n5Ngq0mKKzA|\n",
            "|I4yKEK9o8gA|           djlogitek| 964.0| News & Politics|173.0| 106929.0|4.39| 1010.0| 1484.0|g9e1alirMhc|1GKaVzNDbuI|qCUYgddlvRM|J0Qu6eyyr4c|8n-nT-luFIw|q8XToX7aSdg|dzUNvEfYDEQ|WWqed9u6rr4|2l6vwAIAqNU|VWYX-LiQggc|gMuxyRbNLFM|IBqQWAjBgmE|JZekosYOmXc|DomumdGQSg8|\n",
            "|1GKaVzNDbuI|             fatvids| 690.0|          Comedy|176.0|2464486.0| 4.5|13342.0|11997.0|Bd61LnxqSng|g9e1alirMhc|UrNqx1p95qs|sEJLOmVOpcU|WGV4u6GhGhw|Dto7-3aOt8w|I4yKEK9o8gA|p9CypIsNSvM|qJXYN3wFhgo|Vqiw-Kqtlr0|bnuaPr4hlCU|CKjha-rohzc|hSlo0T0CNI4|_i6OD_y_-AI|\n",
            "|yuZhwV24PmM|          weneedhelp|1082.0| News & Politics|213.0|  46183.0|4.71|  280.0|  247.0|hU9iCANi02o|xq8aopATYyw|g9e1alirMhc|I4yKEK9o8gA|HuTqgqhxVMc|QoMCoMMgeO0|6h3G-lMZxjo|b4LuFQJmS1Y|7ZVpPGxuafA|bfZ_gXCHaMw|1GKaVzNDbuI|9Fr1dm2Qdls|WWqed9u6rr4|L3gQfz8GC0o|\n",
            "|zQ83d_D2MGs|   dumbasstheredneck|1095.0|          Comedy| 14.0|   1550.0|1.57|   14.0|    4.0|HT_QlOJbDpg|cdbp6rCVzRs|gAHZ7DRyIgY|mUoRI-VnV6w|jFGu4xEvWUc|TEPH9ScDy1E|AK9_-sLF5M0|6Xdg_elOGaY|p4NVl4W6FHM|mCLw4iGZ7Ms|bGRB0Pwx_iM|ifTbWQW0w64|tPi04TrYskw|n00wAO4hg-U|\n",
            "|DomumdGQSg8|           imgrown18| 910.0|          Comedy|224.0| 392908.0| 4.8| 1261.0|  829.0|lVTS0iuo1EY|eOIFF_5ORGo|n7rlp3SLtus|u_9vYy-TCCk|kpq0zL-oW4M|J5z4Vs26-TI|b-iTzU_ZD4k|CvCqT9hkZiA|s5CqcdpwEq8|pvVo1290j1w|6g0XGKuC-ek|7TXjtbl2y3U|hpsra8ojBHQ|pqhlG9qYsR8|\n",
            "|pFUYi7dp1WU|      StanleyJenkins|1106.0|          Comedy|200.0| 110272.0|4.07| 1011.0|  482.0|_1haYY5pV18|ue5lVJuNlzQ|AkjUOT67hcU|Xw6xEYeUfj4|5e5tKtCoBfY|ZNfFc4-gV38|T4X8uj_SYPQ|IgVHe9CDQnU|l7Z818lnTK0|1piuJzS7H-4|1OErkBJ8Ha4|5MOriOpcgeQ|J5z4Vs26-TI|LpGZWsCapX4|\n",
            "|2l6vwAIAqNU|        makemagazine| 460.0|Film & Animation|294.0|  71966.0|4.07|  260.0|  229.0|g9e1alirMhc|hiSmlmXp-aU|I4yKEK9o8gA|EGzHBtoVvpc|-mQH9DloKD8|IBqQWAjBgmE|LY0-Ya2YEoE|voQACEw_9EE|IiDQwQQsrL8|DomumdGQSg8|97cWs8tW8mY|NVOFmu2ZIqI|NfOPi0QO0FQ|gqHPYTUTToc|\n",
            "|hiSmlmXp-aU|       bravenewfilms| 440.0|   Entertainment|168.0| 653840.0|4.43|  198.0|  377.0|ED6YaRl93CE|IBqQWAjBgmE|EGzHBtoVvpc|2l6vwAIAqNU|g9e1alirMhc|-mQH9DloKD8|I4yKEK9o8gA|1GKaVzNDbuI|wnDATe6MPrg|WWqed9u6rr4|97cWs8tW8mY|q65SsORdRO8|DomumdGQSg8|0GXjcE4gy7g|\n",
            "+-----------+--------------------+------+----------------+-----+---------+----+-------+-------+-----------+-----------+-----------+-----------+-----------+-----------+-----------+-----------+-----------+-----------+-----------+-----------+-----------+-----------+\n",
            "only showing top 20 rows\n",
            "\n"
          ],
          "name": "stdout"
        }
      ]
    },
    {
      "cell_type": "code",
      "metadata": {
        "id": "Vb1pvicXRza5",
        "colab_type": "code",
        "colab": {}
      },
      "source": [
        "df1 = spark.sql('''select f1 as vdo_id, f2 as vdo_uploader, f3 as vdo_interval, f4 as vdo_category, f5 vdo_length, f6 as vdo_views, f7 as vdo_rating, f8 as vdo_num_rating , f9 as vdo_comm, f10  as vdo_rel_id from youtube_data''')\n",
        "df1.createOrReplaceTempView(\"col_4\")"
      ],
      "execution_count": 0,
      "outputs": []
    },
    {
      "cell_type": "code",
      "metadata": {
        "id": "0ZDumgEdRzdq",
        "colab_type": "code",
        "colab": {}
      },
      "source": [
        "df2 = spark.sql('''select vdo_category, COUNT(vdo_category) category_count from col_4 group by vdo_category order by category_count DESC''')\n",
        "df2.coalesce(1).write.option(\"delimiter\",\",\").option(\"header\", \"true\").mode(\"overwrite\").csv('TopCategory')"
      ],
      "execution_count": 0,
      "outputs": []
    },
    {
      "cell_type": "code",
      "metadata": {
        "id": "XE02WUP-Rzgl",
        "colab_type": "code",
        "colab": {}
      },
      "source": [
        "df3 = spark.sql('''select distinct vdo_id, vdo_rating from col_4 order by vdo_rating DESC''')\n",
        "df3.coalesce(1).write.option(\"delimiter\",\",\").option(\"header\", \"true\").mode(\"overwrite\").csv('vdoRating')"
      ],
      "execution_count": 0,
      "outputs": []
    },
    {
      "cell_type": "code",
      "metadata": {
        "id": "fKAuzVdzRzjq",
        "colab_type": "code",
        "colab": {}
      },
      "source": [
        "df4 = spark.sql('''select vdo_id, vdo_comm from col_4 order by vdo_comm DESC''')\n",
        "df4.coalesce(1).write.option(\"delimiter\",\",\").option(\"header\", \"true\").mode(\"overwrite\").csv('maxComment')"
      ],
      "execution_count": 0,
      "outputs": []
    },
    {
      "cell_type": "markdown",
      "metadata": {
        "id": "uQs9yDzrmVqA",
        "colab_type": "text"
      },
      "source": [
        "## Data Visualization"
      ]
    },
    {
      "cell_type": "code",
      "metadata": {
        "id": "_WX0DqdKSnDZ",
        "colab_type": "code",
        "colab": {}
      },
      "source": [
        "x = []\n",
        "y = []\n",
        "with open('TopCategory/part-00000-2888e8f2-63b2-4bb8-b8f3-880270beb04c-c000.csv', 'r') as csvfile:\n",
        "    plots = csv.reader(csvfile, delimiter=',')\n",
        "    for row in plots:\n",
        "        x.append(row[0])\n",
        "        y.append(row[1])"
      ],
      "execution_count": 0,
      "outputs": []
    },
    {
      "cell_type": "code",
      "metadata": {
        "id": "VRv9PFBMSnAN",
        "colab_type": "code",
        "colab": {
          "base_uri": "https://localhost:8080/",
          "height": 640
        },
        "outputId": "f374180d-629b-45ea-ab1b-a7452103bfff"
      },
      "source": [
        "#df2\n",
        "plt.figure(figsize=(12,10))\n",
        "plt.bar(x, y, '-')\n",
        "plt.xlabel('Video Category')\n",
        "plt.ylabel('Number of Videos for each category')\n",
        "plt.title('df2 Visualization')\n",
        "plt.legend()\n",
        "plt.show()"
      ],
      "execution_count": 18,
      "outputs": [
        {
          "output_type": "stream",
          "text": [
            "No handles with labels found to put in legend.\n"
          ],
          "name": "stderr"
        },
        {
          "output_type": "display_data",
          "data": {
            "image/png": "[encoded data removed]",
            "text/plain": [
              "<Figure size 864x720 with 1 Axes>"
            ]
          },
          "metadata": {
            "tags": []
          }
        }
      ]
    },
    {
      "cell_type": "code",
      "metadata": {
        "id": "h4m3ntWmYoer",
        "colab_type": "code",
        "colab": {}
      },
      "source": [
        "x = []\n",
        "y = []\n",
        "with open('vdoRating/part-00000-6edf4752-007d-4e21-abc4-9b2d450bb4f4-c000.csv', 'r') as csvfile:\n",
        "    plots = csv.reader(csvfile, delimiter=',')\n",
        "    for row in plots:\n",
        "        x.append(row[0])\n",
        "        y.append(row[1])"
      ],
      "execution_count": 0,
      "outputs": []
    },
    {
      "cell_type": "code",
      "metadata": {
        "id": "K19i6BktSm7I",
        "colab_type": "code",
        "colab": {
          "base_uri": "https://localhost:8080/",
          "height": 622
        },
        "outputId": "2cfab14a-bf3c-4f30-f84d-68a408cc5e87"
      },
      "source": [
        "#df3\n",
        "plt.figure(figsize=(12,10))\n",
        "plt.plot(x, y, '-')\n",
        "plt.xlabel('Video ID')\n",
        "plt.ylabel('Video Rating')\n",
        "plt.title('df3 Visualization')\n",
        "plt.show()"
      ],
      "execution_count": 22,
      "outputs": [
        {
          "output_type": "display_data",
          "data": {
            "image/png": "[encoded data removed]",
            "text/plain": [
              "<Figure size 864x720 with 1 Axes>"
            ]
          },
          "metadata": {
            "tags": []
          }
        }
      ]
    },
    {
      "cell_type": "code",
      "metadata": {
        "id": "P8kYg5TJYplx",
        "colab_type": "code",
        "colab": {}
      },
      "source": [
        "x = []\n",
        "y = []\n",
        "with open('maxComment/part-00000-34b86922-8331-4400-a91d-0b670abd09a5-c000.csv', 'r') as csvfile:\n",
        "    plots = csv.reader(csvfile, delimiter=',')\n",
        "    for row in plots:\n",
        "        x.append(row[0])\n",
        "        y.append(row[1])"
      ],
      "execution_count": 0,
      "outputs": []
    },
    {
      "cell_type": "code",
      "metadata": {
        "id": "rxmvcExzUziN",
        "colab_type": "code",
        "colab": {
          "base_uri": "https://localhost:8080/",
          "height": 622
        },
        "outputId": "e49c2274-180e-49f4-81c1-638844fbe785"
      },
      "source": [
        "#df4\n",
        "plt.figure(figsize=(12,10))\n",
        "plt.plot(x, y, '-')\n",
        "plt.xlabel('Video ID')\n",
        "plt.ylabel('Number of comments')\n",
        "plt.title('df4 Visualization')\n",
        "plt.show()"
      ],
      "execution_count": 25,
      "outputs": [
        {
          "output_type": "display_data",
          "data": {
            "image/png": "[encoded data removed]",
            "text/plain": [
              "<Figure size 864x720 with 1 Axes>"
            ]
          },
          "metadata": {
            "tags": []
          }
        }
      ]
    },
    {
      "cell_type": "markdown",
      "metadata": {
        "id": "m8Eiw82pmaFO",
        "colab_type": "text"
      },
      "source": [
        "## Machine Learning"
      ]
    },
    {
      "cell_type": "code",
      "metadata": {
        "id": "3tyIIbIZaYJm",
        "colab_type": "code",
        "colab": {}
      },
      "source": [
        "# Creating a dataframe suitable for Machine Learning using Spark\n",
        "\n",
        "inputcols = [\"f3\",  \"f5\", \"f6\", \"f8\",\"f9\"]\n",
        "assembler = VectorAssembler(inputCols= inputcols,\n",
        "                            outputCol = \"predictors\")"
      ],
      "execution_count": 0,
      "outputs": []
    },
    {
      "cell_type": "code",
      "metadata": {
        "id": "reQXrkh1ae_U",
        "colab_type": "code",
        "colab": {
          "base_uri": "https://localhost:8080/",
          "height": 443
        },
        "outputId": "75984d4d-6ee4-4802-93a5-ade79f9f2c49"
      },
      "source": [
        "predictors = assembler.setHandleInvalid(\"skip\").transform(df)\n",
        "predictors.columns"
      ],
      "execution_count": 28,
      "outputs": [
        {
          "output_type": "execute_result",
          "data": {
            "text/plain": [
              "['f1',\n",
              " 'f2',\n",
              " 'f3',\n",
              " 'f4',\n",
              " 'f5',\n",
              " 'f6',\n",
              " 'f7',\n",
              " 'f8',\n",
              " 'f9',\n",
              " 'f10',\n",
              " 'f11',\n",
              " 'f12',\n",
              " 'f13',\n",
              " 'f14',\n",
              " 'f15',\n",
              " 'f16',\n",
              " 'f17',\n",
              " 'f18',\n",
              " 'f19',\n",
              " 'f20',\n",
              " 'f21',\n",
              " 'f22',\n",
              " 'f23',\n",
              " 'predictors']"
            ]
          },
          "metadata": {
            "tags": []
          },
          "execution_count": 28
        }
      ]
    },
    {
      "cell_type": "code",
      "metadata": {
        "id": "w1HnHaIlaeyn",
        "colab_type": "code",
        "colab": {
          "base_uri": "https://localhost:8080/",
          "height": 390
        },
        "outputId": "f7888f76-b108-432a-f265-db69e6c607a7"
      },
      "source": [
        "mldf = predictors.select(\"predictors\", \"f7\")\n",
        "mldf.show(15,truncate=False)"
      ],
      "execution_count": 29,
      "outputs": [
        {
          "output_type": "stream",
          "text": [
            "+---------------------------------------+----+\n",
            "|predictors                             |f7  |\n",
            "+---------------------------------------+----+\n",
            "|[1135.0,252.0,1075.0,46.0,86.0]        |4.96|\n",
            "|[1135.0,169.0,228.0,5.0,3.0]           |5.0 |\n",
            "|[1135.0,95.0,356.0,13.0,1.0]           |4.31|\n",
            "|[1135.0,118.0,1115.0,57.0,73.0]        |2.23|\n",
            "|[1135.0,83.0,281.0,9.0,16.0]           |2.67|\n",
            "|[1135.0,49.0,1196.0,6.0,5.0]           |3.67|\n",
            "|[1136.0,145.0,11.0,0.0,0.0]            |0.0 |\n",
            "|[1135.0,9.0,490.0,26.0,15.0]           |2.31|\n",
            "|[1095.0,14.0,1349.0,22.0,13.0]         |2.09|\n",
            "|[1136.0,61.0,29.0,0.0,0.0]             |0.0 |\n",
            "|[541.0,152.0,483053.0,2689.0,2932.0]   |4.65|\n",
            "|[1135.0,253.0,63.0,3.0,2.0]            |5.0 |\n",
            "|[964.0,173.0,106929.0,1010.0,1484.0]   |4.39|\n",
            "|[690.0,176.0,2464486.0,13342.0,11997.0]|4.5 |\n",
            "|[1082.0,213.0,46183.0,280.0,247.0]     |4.71|\n",
            "+---------------------------------------+----+\n",
            "only showing top 15 rows\n",
            "\n"
          ],
          "name": "stdout"
        }
      ]
    },
    {
      "cell_type": "code",
      "metadata": {
        "id": "QH287gLxaeve",
        "colab_type": "code",
        "colab": {}
      },
      "source": [
        "train_data,test_data = mldf.randomSplit([0.8,0.2])"
      ],
      "execution_count": 0,
      "outputs": []
    },
    {
      "cell_type": "code",
      "metadata": {
        "id": "tos0nQCRaesL",
        "colab_type": "code",
        "colab": {}
      },
      "source": [
        "lr = LinearRegression(featuresCol = 'predictors', labelCol = 'f7')\n",
        "lrModel = lr.fit(train_data)\n",
        "pred = lrModel.evaluate(test_data)"
      ],
      "execution_count": 0,
      "outputs": []
    },
    {
      "cell_type": "code",
      "metadata": {
        "id": "vXH2638Oamk8",
        "colab_type": "code",
        "colab": {}
      },
      "source": [
        "eval = RegressionEvaluator(labelCol=\"f7\", predictionCol=\"prediction\", metricName=\"rmse\")"
      ],
      "execution_count": 0,
      "outputs": []
    },
    {
      "cell_type": "code",
      "metadata": {
        "id": "-2jOBeM9amh5",
        "colab_type": "code",
        "colab": {}
      },
      "source": [
        "rmse = eval.evaluate(pred.predictions)\n",
        "mse = eval.evaluate(pred.predictions, {eval.metricName: \"mse\"})\n",
        "mae = eval.evaluate(pred.predictions, {eval.metricName: \"mae\"})\n",
        "r2 = eval.evaluate(pred.predictions, {eval.metricName: \"r2\"})"
      ],
      "execution_count": 0,
      "outputs": []
    },
    {
      "cell_type": "code",
      "metadata": {
        "id": "HJGcSDHNh8qE",
        "colab_type": "code",
        "colab": {
          "base_uri": "https://localhost:8080/",
          "height": 34
        },
        "outputId": "038d80e1-6424-4e30-a42e-856bad256205"
      },
      "source": [
        "lrModel.coefficients"
      ],
      "execution_count": 34,
      "outputs": [
        {
          "output_type": "execute_result",
          "data": {
            "text/plain": [
              "DenseVector([-0.0013, 0.0011, -0.0, 0.0001, -0.0])"
            ]
          },
          "metadata": {
            "tags": []
          },
          "execution_count": 34
        }
      ]
    },
    {
      "cell_type": "code",
      "metadata": {
        "id": "SzhDXC0mh8sr",
        "colab_type": "code",
        "colab": {
          "base_uri": "https://localhost:8080/",
          "height": 34
        },
        "outputId": "d68e6dcf-51d4-4a36-d747-e7663dd6c8dd"
      },
      "source": [
        "lrModel.intercept"
      ],
      "execution_count": 35,
      "outputs": [
        {
          "output_type": "execute_result",
          "data": {
            "text/plain": [
              "4.739912795715572"
            ]
          },
          "metadata": {
            "tags": []
          },
          "execution_count": 35
        }
      ]
    },
    {
      "cell_type": "code",
      "metadata": {
        "id": "JQlzAvJYh_xO",
        "colab_type": "code",
        "colab": {
          "base_uri": "https://localhost:8080/",
          "height": 212
        },
        "outputId": "ff24ffd8-81b2-4412-efc7-e83b40e75d1a"
      },
      "source": [
        "pred.predictions.show(5)"
      ],
      "execution_count": 36,
      "outputs": [
        {
          "output_type": "stream",
          "text": [
            "+--------------------+----+------------------+\n",
            "|          predictors|  f7|        prediction|\n",
            "+--------------------+----+------------------+\n",
            "|(5,[0,1],[1135.0,...| 0.0|3.2654060249519814|\n",
            "|[0.0,60.0,36869.0...|4.67| 4.808005844090698|\n",
            "|[0.0,61.0,152891....|4.18| 4.809394270201386|\n",
            "|[0.0,63.0,199361....|4.79| 4.813877904378161|\n",
            "|[0.0,87.0,217431....|4.34| 4.843142546780268|\n",
            "+--------------------+----+------------------+\n",
            "only showing top 5 rows\n",
            "\n"
          ],
          "name": "stdout"
        }
      ]
    },
    {
      "cell_type": "code",
      "metadata": {
        "id": "GYb-RpQbamc-",
        "colab_type": "code",
        "colab": {
          "base_uri": "https://localhost:8080/",
          "height": 52
        },
        "outputId": "d19be5d7-0d5f-4134-e322-f25ae9e54984"
      },
      "source": [
        "print(\"Overall model loss using RMSE, MSE, MAE and R2\")\n",
        "rmse, mse, mae, r2"
      ],
      "execution_count": 37,
      "outputs": [
        {
          "output_type": "stream",
          "text": [
            "Overall model loss using RMSE, MSE, MAE and R2\n"
          ],
          "name": "stdout"
        },
        {
          "output_type": "execute_result",
          "data": {
            "text/plain": [
              "(1.5656332415453058, 2.451207447031662, 1.228812249025163, 0.07328308153149188)"
            ]
          },
          "metadata": {
            "tags": []
          },
          "execution_count": 37
        }
      ]
    }
  ]
}